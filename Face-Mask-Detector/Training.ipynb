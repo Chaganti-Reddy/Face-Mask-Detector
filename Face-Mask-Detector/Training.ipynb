{
 "cells": [
  {
   "cell_type": "markdown",
   "id": "98be179d",
   "metadata": {},
   "source": [
    "# Install the packages using the following commands :\n",
    "\n",
    "    pip3 install tensorflow    \n",
    "    pip3 install opencv-python\n",
    "    pip3 install sklearn scikit-learn auto-sklearn\n",
    "    pip3 install pygame imutils\n",
    "    pip3 install numpy matplotlib \n",
    "    pip3 install keras"
   ]
  },
  {
   "cell_type": "markdown",
   "id": "fe1878e7",
   "metadata": {},
   "source": [
    "# Import all necessary packages to train the Face Mask Detector Model"
   ]
  },
  {
   "cell_type": "code",
   "execution_count": 1,
   "id": "aeb0daa7",
   "metadata": {},
   "outputs": [],
   "source": [
    "from tensorflow.keras.preprocessing.image import ImageDataGenerator\n",
    "from tensorflow.keras.applications import MobileNetV2\n",
    "from tensorflow.keras.layers import AveragePooling2D\n",
    "from tensorflow.keras.layers import Dropout\n",
    "from tensorflow.keras.layers import Flatten\n",
    "from tensorflow.keras.layers import Dense\n",
    "from tensorflow.keras.layers import Input\n",
    "from tensorflow.keras.models import Model\n",
    "from tensorflow.keras.optimizers import Adam\n",
    "from tensorflow.keras.applications.mobilenet_v2 import preprocess_input\n",
    "from tensorflow.keras.preprocessing.image import img_to_array\n",
    "from tensorflow.keras.preprocessing.image import load_img\n",
    "from tensorflow.keras.utils import to_categorical\n",
    "from sklearn.preprocessing import LabelBinarizer\n",
    "from sklearn.model_selection import train_test_split\n",
    "from sklearn.metrics import classification_report\n",
    "from imutils import paths\n",
    "import matplotlib.pyplot as plt\n",
    "import numpy as np\n",
    "import os"
   ]
  },
  {
   "cell_type": "markdown",
   "id": "281ab3be",
   "metadata": {},
   "source": [
    "# Initialize the initial learning rate, number of epochs to train and batch size \n",
    "\n",
    "   Also allocate the directory of the folder containg the datasets .\n",
    "   \n",
    "   grab the list of images in our dataset directory, then initialize the list of data (i.e., images) and class images"
   ]
  },
  {
   "cell_type": "code",
   "execution_count": 2,
   "id": "8d0e9c71",
   "metadata": {},
   "outputs": [
    {
     "name": "stdout",
     "output_type": "stream",
     "text": [
      "[INFO] loading images...\n"
     ]
    },
    {
     "name": "stderr",
     "output_type": "stream",
     "text": [
      "C:\\Users\\Reddy\\AppData\\Local\\Programs\\Python\\Python39\\lib\\site-packages\\PIL\\Image.py:973: UserWarning: Palette images with Transparency expressed in bytes should be converted to RGBA images\n",
      "  warnings.warn(\n"
     ]
    }
   ],
   "source": [
    "INIT_LR = 1e-4\n",
    "EPOCHS = 75\n",
    "BS = 32\n",
    "\n",
    "DIRECTORY = r\"dataset\"\n",
    "CATEGORIES = [\"with_mask\", \"without_mask\"]\n",
    "\n",
    "print(\"[INFO] loading images...\")\n",
    "\n",
    "data = []\n",
    "labels = []\n",
    "\n",
    "for category in CATEGORIES:\n",
    "    path = os.path.join(DIRECTORY, category)\n",
    "    for img in os.listdir(path):\n",
    "        img_path = os.path.join(path, img)\n",
    "        image = load_img(img_path, target_size=(224, 224))\n",
    "        image = img_to_array(image)\n",
    "        image = preprocess_input(image)\n",
    "\n",
    "        data.append(image)\n",
    "        labels.append(category)\n",
    "        \n",
    "lb = LabelBinarizer()\n",
    "labels = lb.fit_transform(labels)\n",
    "labels = to_categorical(labels)\n",
    "\n",
    "data = np.array(data, dtype=\"float32\")\n",
    "labels = np.array(labels)\n",
    "\n",
    "(trainX, testX, trainY, testY) = train_test_split(data, labels, test_size=0.20, stratify=labels, random_state=42)"
   ]
  },
  {
   "cell_type": "markdown",
   "id": "73e0cfd2",
   "metadata": {},
   "source": [
    "# construct the training image generator for data augmentation"
   ]
  },
  {
   "cell_type": "code",
   "execution_count": 3,
   "id": "8252c5ec",
   "metadata": {},
   "outputs": [],
   "source": [
    "aug = ImageDataGenerator(\n",
    "    rotation_range=20,\n",
    "    zoom_range=0.15,\n",
    "    width_shift_range=0.2,\n",
    "    height_shift_range=0.2,\n",
    "    shear_range=0.15,\n",
    "    horizontal_flip=True,\n",
    "    fill_mode=\"nearest\")"
   ]
  },
  {
   "cell_type": "markdown",
   "id": "29dc6f4f",
   "metadata": {},
   "source": [
    "# load the MobileNetV2 network, ensuring the head FC layer sets are left off"
   ]
  },
  {
   "cell_type": "code",
   "execution_count": 4,
   "id": "8dd5f544",
   "metadata": {},
   "outputs": [
    {
     "name": "stdout",
     "output_type": "stream",
     "text": [
      "WARNING:tensorflow:`input_shape` is undefined or non-square, or `rows` is not in [96, 128, 160, 192, 224]. Weights for input shape (224, 224) will be loaded as the default.\n"
     ]
    }
   ],
   "source": [
    "baseModel = MobileNetV2(weights=\"imagenet\", include_top=False, input_tensor=Input(shape=(224, 224, 3)))\n",
    "\n",
    "#construct the head of the model that will be placed on top of the base model\n",
    "\n",
    "headModel = baseModel.output\n",
    "headModel = AveragePooling2D(pool_size=(7, 7))(headModel)\n",
    "headModel = Flatten(name=\"flatten\")(headModel)\n",
    "headModel = Dense(128, activation=\"relu\")(headModel)\n",
    "headModel = Dropout(0.5)(headModel)\n",
    "headModel = Dense(2, activation=\"softmax\")(headModel)\n",
    "\n",
    "model = Model(inputs=baseModel.input, outputs=headModel)\n",
    "\n",
    "#loop over all layers in the base model and freeze them so they will *not* be updated during the first training process\n",
    "\n",
    "for layer in baseModel.layers:\n",
    "    layer.trainable = False"
   ]
  },
  {
   "cell_type": "markdown",
   "id": "31886fe2",
   "metadata": {},
   "source": [
    "# compile our model"
   ]
  },
  {
   "cell_type": "code",
   "execution_count": 5,
   "id": "f6840ca0",
   "metadata": {},
   "outputs": [
    {
     "name": "stdout",
     "output_type": "stream",
     "text": [
      "[INFO] compiling model...\n"
     ]
    },
    {
     "name": "stderr",
     "output_type": "stream",
     "text": [
      "C:\\Users\\Reddy\\AppData\\Local\\Programs\\Python\\Python39\\lib\\site-packages\\keras\\optimizer_v2\\optimizer_v2.py:355: UserWarning: The `lr` argument is deprecated, use `learning_rate` instead.\n",
      "  warnings.warn(\n"
     ]
    }
   ],
   "source": [
    "print(\"[INFO] compiling model...\")\n",
    "opt = Adam(lr=INIT_LR, decay=INIT_LR / EPOCHS)\n",
    "model.compile(loss=\"binary_crossentropy\", optimizer=opt, metrics=[\"accuracy\"])"
   ]
  },
  {
   "cell_type": "markdown",
   "id": "f8009201",
   "metadata": {},
   "source": [
    "# train the head of the network"
   ]
  },
  {
   "cell_type": "code",
   "execution_count": 6,
   "id": "2bb228d7",
   "metadata": {},
   "outputs": [
    {
     "name": "stdout",
     "output_type": "stream",
     "text": [
      "[INFO] training head...\n",
      "Epoch 1/75\n",
      "184/184 [==============================] - ETA: 0s - loss: 0.2362 - accuracy: 0.9195WARNING:tensorflow:Your input ran out of data; interrupting training. Make sure that your dataset or generator can generate at least `steps_per_epoch * epochs` batches (in this case, 46 batches). You may need to use the repeat() function when building your dataset.\n",
      "184/184 [==============================] - 156s 842ms/step - loss: 0.2362 - accuracy: 0.9195 - val_loss: 0.0860 - val_accuracy: 0.9736\n",
      "Epoch 2/75\n",
      "184/184 [==============================] - 148s 804ms/step - loss: 0.0829 - accuracy: 0.9770\n",
      "Epoch 3/75\n",
      "184/184 [==============================] - 122s 660ms/step - loss: 0.0690 - accuracy: 0.9809\n",
      "Epoch 4/75\n",
      "184/184 [==============================] - 119s 646ms/step - loss: 0.0620 - accuracy: 0.9813\n",
      "Epoch 5/75\n",
      "184/184 [==============================] - 125s 677ms/step - loss: 0.0575 - accuracy: 0.9842\n",
      "Epoch 6/75\n",
      "184/184 [==============================] - 125s 678ms/step - loss: 0.0540 - accuracy: 0.9860\n",
      "Epoch 7/75\n",
      "184/184 [==============================] - 126s 685ms/step - loss: 0.0458 - accuracy: 0.9867\n",
      "Epoch 8/75\n",
      "184/184 [==============================] - 124s 673ms/step - loss: 0.0473 - accuracy: 0.9860\n",
      "Epoch 9/75\n",
      "184/184 [==============================] - 121s 656ms/step - loss: 0.0439 - accuracy: 0.9871\n",
      "Epoch 10/75\n",
      "184/184 [==============================] - 127s 691ms/step - loss: 0.0441 - accuracy: 0.9871\n",
      "Epoch 11/75\n",
      "184/184 [==============================] - 124s 672ms/step - loss: 0.0431 - accuracy: 0.9871\n",
      "Epoch 12/75\n",
      "184/184 [==============================] - 123s 667ms/step - loss: 0.0424 - accuracy: 0.9862\n",
      "Epoch 13/75\n",
      "184/184 [==============================] - 122s 664ms/step - loss: 0.0441 - accuracy: 0.9864\n",
      "Epoch 14/75\n",
      "184/184 [==============================] - 115s 622ms/step - loss: 0.0401 - accuracy: 0.9891\n",
      "Epoch 15/75\n",
      "184/184 [==============================] - 120s 650ms/step - loss: 0.0382 - accuracy: 0.9867\n",
      "Epoch 16/75\n",
      "184/184 [==============================] - 113s 612ms/step - loss: 0.0375 - accuracy: 0.9872\n",
      "Epoch 17/75\n",
      "184/184 [==============================] - 110s 595ms/step - loss: 0.0354 - accuracy: 0.9891\n",
      "Epoch 18/75\n",
      "184/184 [==============================] - 113s 615ms/step - loss: 0.0372 - accuracy: 0.9881\n",
      "Epoch 19/75\n",
      "184/184 [==============================] - 118s 640ms/step - loss: 0.0305 - accuracy: 0.9910\n",
      "Epoch 20/75\n",
      "184/184 [==============================] - 121s 659ms/step - loss: 0.0337 - accuracy: 0.9898\n",
      "Epoch 21/75\n",
      "184/184 [==============================] - 119s 648ms/step - loss: 0.0328 - accuracy: 0.9896\n",
      "Epoch 22/75\n",
      "184/184 [==============================] - 113s 614ms/step - loss: 0.0340 - accuracy: 0.9896\n",
      "Epoch 23/75\n",
      "184/184 [==============================] - 117s 634ms/step - loss: 0.0299 - accuracy: 0.9881\n",
      "Epoch 24/75\n",
      "184/184 [==============================] - 120s 652ms/step - loss: 0.0319 - accuracy: 0.9903\n",
      "Epoch 25/75\n",
      "184/184 [==============================] - 112s 606ms/step - loss: 0.0312 - accuracy: 0.9891\n",
      "Epoch 26/75\n",
      "184/184 [==============================] - 114s 617ms/step - loss: 0.0318 - accuracy: 0.9903\n",
      "Epoch 27/75\n",
      "184/184 [==============================] - 116s 631ms/step - loss: 0.0261 - accuracy: 0.9912\n",
      "Epoch 28/75\n",
      "184/184 [==============================] - 120s 652ms/step - loss: 0.0256 - accuracy: 0.9913\n",
      "Epoch 29/75\n",
      "184/184 [==============================] - 110s 597ms/step - loss: 0.0276 - accuracy: 0.9908\n",
      "Epoch 30/75\n",
      "184/184 [==============================] - 114s 617ms/step - loss: 0.0277 - accuracy: 0.9906\n",
      "Epoch 31/75\n",
      "184/184 [==============================] - 116s 632ms/step - loss: 0.0257 - accuracy: 0.9898\n",
      "Epoch 32/75\n",
      "184/184 [==============================] - 121s 658ms/step - loss: 0.0260 - accuracy: 0.9908\n",
      "Epoch 33/75\n",
      "184/184 [==============================] - 114s 618ms/step - loss: 0.0287 - accuracy: 0.9901\n",
      "Epoch 34/75\n",
      "184/184 [==============================] - 114s 619ms/step - loss: 0.0231 - accuracy: 0.9918\n",
      "Epoch 35/75\n",
      "184/184 [==============================] - 118s 640ms/step - loss: 0.0250 - accuracy: 0.9918\n",
      "Epoch 36/75\n",
      "184/184 [==============================] - 118s 639ms/step - loss: 0.0268 - accuracy: 0.9903\n",
      "Epoch 37/75\n",
      "184/184 [==============================] - 111s 602ms/step - loss: 0.0250 - accuracy: 0.9906\n",
      "Epoch 38/75\n",
      "184/184 [==============================] - 114s 619ms/step - loss: 0.0264 - accuracy: 0.9918\n",
      "Epoch 39/75\n",
      "184/184 [==============================] - 117s 637ms/step - loss: 0.0223 - accuracy: 0.9925\n",
      "Epoch 40/75\n",
      "184/184 [==============================] - 117s 636ms/step - loss: 0.0233 - accuracy: 0.9908\n",
      "Epoch 41/75\n",
      "184/184 [==============================] - 112s 609ms/step - loss: 0.0212 - accuracy: 0.9923\n",
      "Epoch 42/75\n",
      "184/184 [==============================] - 115s 625ms/step - loss: 0.0207 - accuracy: 0.9918\n",
      "Epoch 43/75\n",
      "184/184 [==============================] - 119s 644ms/step - loss: 0.0250 - accuracy: 0.9910\n",
      "Epoch 44/75\n",
      "184/184 [==============================] - 122s 662ms/step - loss: 0.0243 - accuracy: 0.9910\n",
      "Epoch 45/75\n",
      "184/184 [==============================] - 111s 605ms/step - loss: 0.0210 - accuracy: 0.9929\n",
      "Epoch 46/75\n",
      "184/184 [==============================] - 115s 627ms/step - loss: 0.0220 - accuracy: 0.9908\n",
      "Epoch 47/75\n",
      "184/184 [==============================] - 118s 639ms/step - loss: 0.0209 - accuracy: 0.9918\n",
      "Epoch 48/75\n",
      "184/184 [==============================] - 111s 605ms/step - loss: 0.0184 - accuracy: 0.9937\n",
      "Epoch 49/75\n",
      "184/184 [==============================] - 112s 608ms/step - loss: 0.0228 - accuracy: 0.9915\n",
      "Epoch 50/75\n",
      "184/184 [==============================] - 115s 625ms/step - loss: 0.0216 - accuracy: 0.9927\n",
      "Epoch 51/75\n",
      "184/184 [==============================] - 119s 645ms/step - loss: 0.0178 - accuracy: 0.9922\n",
      "Epoch 52/75\n",
      "184/184 [==============================] - 109s 593ms/step - loss: 0.0200 - accuracy: 0.9930\n",
      "Epoch 53/75\n",
      "184/184 [==============================] - 111s 605ms/step - loss: 0.0229 - accuracy: 0.9915\n",
      "Epoch 54/75\n",
      "184/184 [==============================] - 115s 623ms/step - loss: 0.0162 - accuracy: 0.9940\n",
      "Epoch 55/75\n",
      "184/184 [==============================] - 106s 577ms/step - loss: 0.0193 - accuracy: 0.9932\n",
      "Epoch 56/75\n",
      "184/184 [==============================] - 110s 599ms/step - loss: 0.0189 - accuracy: 0.9944\n",
      "Epoch 57/75\n",
      "184/184 [==============================] - 112s 608ms/step - loss: 0.0178 - accuracy: 0.9925\n",
      "Epoch 58/75\n",
      "184/184 [==============================] - 116s 629ms/step - loss: 0.0189 - accuracy: 0.9934\n",
      "Epoch 59/75\n",
      "184/184 [==============================] - 112s 608ms/step - loss: 0.0177 - accuracy: 0.9927\n",
      "Epoch 60/75\n",
      "184/184 [==============================] - 109s 593ms/step - loss: 0.0178 - accuracy: 0.9935\n",
      "Epoch 61/75\n",
      "184/184 [==============================] - 112s 607ms/step - loss: 0.0172 - accuracy: 0.9942\n",
      "Epoch 62/75\n",
      "184/184 [==============================] - 116s 627ms/step - loss: 0.0162 - accuracy: 0.9942\n",
      "Epoch 63/75\n",
      "184/184 [==============================] - 112s 609ms/step - loss: 0.0164 - accuracy: 0.9940\n",
      "Epoch 64/75\n",
      "184/184 [==============================] - 109s 593ms/step - loss: 0.0201 - accuracy: 0.9923\n",
      "Epoch 65/75\n",
      "184/184 [==============================] - 119s 644ms/step - loss: 0.0180 - accuracy: 0.9930\n",
      "Epoch 66/75\n",
      "184/184 [==============================] - 133s 724ms/step - loss: 0.0172 - accuracy: 0.9934\n",
      "Epoch 67/75\n",
      "184/184 [==============================] - 125s 681ms/step - loss: 0.0150 - accuracy: 0.9946\n",
      "Epoch 68/75\n",
      "184/184 [==============================] - 121s 658ms/step - loss: 0.0159 - accuracy: 0.9942\n",
      "Epoch 69/75\n",
      "184/184 [==============================] - 121s 658ms/step - loss: 0.0144 - accuracy: 0.9949\n",
      "Epoch 70/75\n",
      "184/184 [==============================] - 121s 656ms/step - loss: 0.0137 - accuracy: 0.9954\n",
      "Epoch 71/75\n",
      "184/184 [==============================] - 118s 639ms/step - loss: 0.0168 - accuracy: 0.9946\n",
      "Epoch 72/75\n",
      "184/184 [==============================] - 103s 558ms/step - loss: 0.0149 - accuracy: 0.9942\n",
      "Epoch 73/75\n",
      "184/184 [==============================] - 104s 564ms/step - loss: 0.0143 - accuracy: 0.9951\n",
      "Epoch 74/75\n",
      "184/184 [==============================] - 106s 575ms/step - loss: 0.0155 - accuracy: 0.9946\n",
      "Epoch 75/75\n"
     ]
    },
    {
     "name": "stdout",
     "output_type": "stream",
     "text": [
      "184/184 [==============================] - 108s 586ms/step - loss: 0.0181 - accuracy: 0.9934\n",
      "[INFO] evaluating network...\n",
      "              precision    recall  f1-score   support\n",
      "\n",
      "   with_mask       0.98      1.00      0.99       709\n",
      "without_mask       1.00      0.98      0.99       769\n",
      "\n",
      "    accuracy                           0.99      1478\n",
      "   macro avg       0.99      0.99      0.99      1478\n",
      "weighted avg       0.99      0.99      0.99      1478\n",
      "\n"
     ]
    }
   ],
   "source": [
    "print(\"[INFO] training head...\")\n",
    "H = model.fit(\n",
    "    aug.flow(trainX, trainY, batch_size=BS),\n",
    "    steps_per_epoch=len(trainX) // BS,\n",
    "    validation_data=(testX, testY),\n",
    "    validation_steps=len(testX) // BS,\n",
    "    epochs=EPOCHS)\n",
    "\n",
    "# make predictions on the testing set\n",
    "print(\"[INFO] evaluating network...\")\n",
    "predIdxs = model.predict(testX, batch_size=BS)\n",
    "\n",
    "# for each image in the testing set we need to find the index of the\n",
    "# label with corresponding largest predicted probability\n",
    "predIdxs = np.argmax(predIdxs, axis=1)\n",
    "\n",
    "# show a nicely formatted classification report\n",
    "print(classification_report(testY.argmax(axis=1), predIdxs, target_names=lb.classes_))"
   ]
  },
  {
   "cell_type": "markdown",
   "id": "98c50d11",
   "metadata": {},
   "source": [
    "# serialize the model to disk"
   ]
  },
  {
   "cell_type": "code",
   "execution_count": 7,
   "id": "71a455f9",
   "metadata": {},
   "outputs": [
    {
     "name": "stdout",
     "output_type": "stream",
     "text": [
      "[INFO] saving mask detector model...\n"
     ]
    },
    {
     "name": "stderr",
     "output_type": "stream",
     "text": [
      "C:\\Users\\Reddy\\AppData\\Local\\Programs\\Python\\Python39\\lib\\site-packages\\keras\\utils\\generic_utils.py:494: CustomMaskWarning: Custom mask layers require a config and must override get_config. When loading, the custom mask layer must be passed to the custom_objects argument.\n",
      "  warnings.warn('Custom mask layers require a config and must override '\n"
     ]
    },
    {
     "ename": "ValueError",
     "evalue": "x and y must have same first dimension, but have shapes (75,) and (1,)",
     "output_type": "error",
     "traceback": [
      "\u001b[1;31m---------------------------------------------------------------------------\u001b[0m",
      "\u001b[1;31mValueError\u001b[0m                                Traceback (most recent call last)",
      "\u001b[1;32m~\\AppData\\Local\\Temp/ipykernel_16600/1286975015.py\u001b[0m in \u001b[0;36m<module>\u001b[1;34m\u001b[0m\n\u001b[0;32m      8\u001b[0m \u001b[0mplt\u001b[0m\u001b[1;33m.\u001b[0m\u001b[0mfigure\u001b[0m\u001b[1;33m(\u001b[0m\u001b[1;33m)\u001b[0m\u001b[1;33m\u001b[0m\u001b[1;33m\u001b[0m\u001b[0m\n\u001b[0;32m      9\u001b[0m \u001b[0mplt\u001b[0m\u001b[1;33m.\u001b[0m\u001b[0mplot\u001b[0m\u001b[1;33m(\u001b[0m\u001b[0mnp\u001b[0m\u001b[1;33m.\u001b[0m\u001b[0marange\u001b[0m\u001b[1;33m(\u001b[0m\u001b[1;36m0\u001b[0m\u001b[1;33m,\u001b[0m \u001b[0mN\u001b[0m\u001b[1;33m)\u001b[0m\u001b[1;33m,\u001b[0m \u001b[0mH\u001b[0m\u001b[1;33m.\u001b[0m\u001b[0mhistory\u001b[0m\u001b[1;33m[\u001b[0m\u001b[1;34m\"loss\"\u001b[0m\u001b[1;33m]\u001b[0m\u001b[1;33m,\u001b[0m \u001b[0mlabel\u001b[0m\u001b[1;33m=\u001b[0m\u001b[1;34m\"train_loss\"\u001b[0m\u001b[1;33m)\u001b[0m\u001b[1;33m\u001b[0m\u001b[1;33m\u001b[0m\u001b[0m\n\u001b[1;32m---> 10\u001b[1;33m \u001b[0mplt\u001b[0m\u001b[1;33m.\u001b[0m\u001b[0mplot\u001b[0m\u001b[1;33m(\u001b[0m\u001b[0mnp\u001b[0m\u001b[1;33m.\u001b[0m\u001b[0marange\u001b[0m\u001b[1;33m(\u001b[0m\u001b[1;36m0\u001b[0m\u001b[1;33m,\u001b[0m \u001b[0mN\u001b[0m\u001b[1;33m)\u001b[0m\u001b[1;33m,\u001b[0m \u001b[0mH\u001b[0m\u001b[1;33m.\u001b[0m\u001b[0mhistory\u001b[0m\u001b[1;33m[\u001b[0m\u001b[1;34m\"val_loss\"\u001b[0m\u001b[1;33m]\u001b[0m\u001b[1;33m,\u001b[0m \u001b[0mlabel\u001b[0m\u001b[1;33m=\u001b[0m\u001b[1;34m\"val_loss\"\u001b[0m\u001b[1;33m)\u001b[0m\u001b[1;33m\u001b[0m\u001b[1;33m\u001b[0m\u001b[0m\n\u001b[0m\u001b[0;32m     11\u001b[0m \u001b[0mplt\u001b[0m\u001b[1;33m.\u001b[0m\u001b[0mplot\u001b[0m\u001b[1;33m(\u001b[0m\u001b[0mnp\u001b[0m\u001b[1;33m.\u001b[0m\u001b[0marange\u001b[0m\u001b[1;33m(\u001b[0m\u001b[1;36m0\u001b[0m\u001b[1;33m,\u001b[0m \u001b[0mN\u001b[0m\u001b[1;33m)\u001b[0m\u001b[1;33m,\u001b[0m \u001b[0mH\u001b[0m\u001b[1;33m.\u001b[0m\u001b[0mhistory\u001b[0m\u001b[1;33m[\u001b[0m\u001b[1;34m\"accuracy\"\u001b[0m\u001b[1;33m]\u001b[0m\u001b[1;33m,\u001b[0m \u001b[0mlabel\u001b[0m\u001b[1;33m=\u001b[0m\u001b[1;34m\"train_acc\"\u001b[0m\u001b[1;33m)\u001b[0m\u001b[1;33m\u001b[0m\u001b[1;33m\u001b[0m\u001b[0m\n\u001b[0;32m     12\u001b[0m \u001b[0mplt\u001b[0m\u001b[1;33m.\u001b[0m\u001b[0mplot\u001b[0m\u001b[1;33m(\u001b[0m\u001b[0mnp\u001b[0m\u001b[1;33m.\u001b[0m\u001b[0marange\u001b[0m\u001b[1;33m(\u001b[0m\u001b[1;36m0\u001b[0m\u001b[1;33m,\u001b[0m \u001b[0mN\u001b[0m\u001b[1;33m)\u001b[0m\u001b[1;33m,\u001b[0m \u001b[0mH\u001b[0m\u001b[1;33m.\u001b[0m\u001b[0mhistory\u001b[0m\u001b[1;33m[\u001b[0m\u001b[1;34m\"val_accuracy\"\u001b[0m\u001b[1;33m]\u001b[0m\u001b[1;33m,\u001b[0m \u001b[0mlabel\u001b[0m\u001b[1;33m=\u001b[0m\u001b[1;34m\"val_acc\"\u001b[0m\u001b[1;33m)\u001b[0m\u001b[1;33m\u001b[0m\u001b[1;33m\u001b[0m\u001b[0m\n",
      "\u001b[1;32m~\\AppData\\Local\\Programs\\Python\\Python39\\lib\\site-packages\\matplotlib\\pyplot.py\u001b[0m in \u001b[0;36mplot\u001b[1;34m(scalex, scaley, data, *args, **kwargs)\u001b[0m\n\u001b[0;32m   3017\u001b[0m \u001b[1;33m@\u001b[0m\u001b[0m_copy_docstring_and_deprecators\u001b[0m\u001b[1;33m(\u001b[0m\u001b[0mAxes\u001b[0m\u001b[1;33m.\u001b[0m\u001b[0mplot\u001b[0m\u001b[1;33m)\u001b[0m\u001b[1;33m\u001b[0m\u001b[1;33m\u001b[0m\u001b[0m\n\u001b[0;32m   3018\u001b[0m \u001b[1;32mdef\u001b[0m \u001b[0mplot\u001b[0m\u001b[1;33m(\u001b[0m\u001b[1;33m*\u001b[0m\u001b[0margs\u001b[0m\u001b[1;33m,\u001b[0m \u001b[0mscalex\u001b[0m\u001b[1;33m=\u001b[0m\u001b[1;32mTrue\u001b[0m\u001b[1;33m,\u001b[0m \u001b[0mscaley\u001b[0m\u001b[1;33m=\u001b[0m\u001b[1;32mTrue\u001b[0m\u001b[1;33m,\u001b[0m \u001b[0mdata\u001b[0m\u001b[1;33m=\u001b[0m\u001b[1;32mNone\u001b[0m\u001b[1;33m,\u001b[0m \u001b[1;33m**\u001b[0m\u001b[0mkwargs\u001b[0m\u001b[1;33m)\u001b[0m\u001b[1;33m:\u001b[0m\u001b[1;33m\u001b[0m\u001b[1;33m\u001b[0m\u001b[0m\n\u001b[1;32m-> 3019\u001b[1;33m     return gca().plot(\n\u001b[0m\u001b[0;32m   3020\u001b[0m         \u001b[1;33m*\u001b[0m\u001b[0margs\u001b[0m\u001b[1;33m,\u001b[0m \u001b[0mscalex\u001b[0m\u001b[1;33m=\u001b[0m\u001b[0mscalex\u001b[0m\u001b[1;33m,\u001b[0m \u001b[0mscaley\u001b[0m\u001b[1;33m=\u001b[0m\u001b[0mscaley\u001b[0m\u001b[1;33m,\u001b[0m\u001b[1;33m\u001b[0m\u001b[1;33m\u001b[0m\u001b[0m\n\u001b[0;32m   3021\u001b[0m         **({\"data\": data} if data is not None else {}), **kwargs)\n",
      "\u001b[1;32m~\\AppData\\Local\\Programs\\Python\\Python39\\lib\\site-packages\\matplotlib\\axes\\_axes.py\u001b[0m in \u001b[0;36mplot\u001b[1;34m(self, scalex, scaley, data, *args, **kwargs)\u001b[0m\n\u001b[0;32m   1603\u001b[0m         \"\"\"\n\u001b[0;32m   1604\u001b[0m         \u001b[0mkwargs\u001b[0m \u001b[1;33m=\u001b[0m \u001b[0mcbook\u001b[0m\u001b[1;33m.\u001b[0m\u001b[0mnormalize_kwargs\u001b[0m\u001b[1;33m(\u001b[0m\u001b[0mkwargs\u001b[0m\u001b[1;33m,\u001b[0m \u001b[0mmlines\u001b[0m\u001b[1;33m.\u001b[0m\u001b[0mLine2D\u001b[0m\u001b[1;33m)\u001b[0m\u001b[1;33m\u001b[0m\u001b[1;33m\u001b[0m\u001b[0m\n\u001b[1;32m-> 1605\u001b[1;33m         \u001b[0mlines\u001b[0m \u001b[1;33m=\u001b[0m \u001b[1;33m[\u001b[0m\u001b[1;33m*\u001b[0m\u001b[0mself\u001b[0m\u001b[1;33m.\u001b[0m\u001b[0m_get_lines\u001b[0m\u001b[1;33m(\u001b[0m\u001b[1;33m*\u001b[0m\u001b[0margs\u001b[0m\u001b[1;33m,\u001b[0m \u001b[0mdata\u001b[0m\u001b[1;33m=\u001b[0m\u001b[0mdata\u001b[0m\u001b[1;33m,\u001b[0m \u001b[1;33m**\u001b[0m\u001b[0mkwargs\u001b[0m\u001b[1;33m)\u001b[0m\u001b[1;33m]\u001b[0m\u001b[1;33m\u001b[0m\u001b[1;33m\u001b[0m\u001b[0m\n\u001b[0m\u001b[0;32m   1606\u001b[0m         \u001b[1;32mfor\u001b[0m \u001b[0mline\u001b[0m \u001b[1;32min\u001b[0m \u001b[0mlines\u001b[0m\u001b[1;33m:\u001b[0m\u001b[1;33m\u001b[0m\u001b[1;33m\u001b[0m\u001b[0m\n\u001b[0;32m   1607\u001b[0m             \u001b[0mself\u001b[0m\u001b[1;33m.\u001b[0m\u001b[0madd_line\u001b[0m\u001b[1;33m(\u001b[0m\u001b[0mline\u001b[0m\u001b[1;33m)\u001b[0m\u001b[1;33m\u001b[0m\u001b[1;33m\u001b[0m\u001b[0m\n",
      "\u001b[1;32m~\\AppData\\Local\\Programs\\Python\\Python39\\lib\\site-packages\\matplotlib\\axes\\_base.py\u001b[0m in \u001b[0;36m__call__\u001b[1;34m(self, data, *args, **kwargs)\u001b[0m\n\u001b[0;32m    313\u001b[0m                 \u001b[0mthis\u001b[0m \u001b[1;33m+=\u001b[0m \u001b[0margs\u001b[0m\u001b[1;33m[\u001b[0m\u001b[1;36m0\u001b[0m\u001b[1;33m]\u001b[0m\u001b[1;33m,\u001b[0m\u001b[1;33m\u001b[0m\u001b[1;33m\u001b[0m\u001b[0m\n\u001b[0;32m    314\u001b[0m                 \u001b[0margs\u001b[0m \u001b[1;33m=\u001b[0m \u001b[0margs\u001b[0m\u001b[1;33m[\u001b[0m\u001b[1;36m1\u001b[0m\u001b[1;33m:\u001b[0m\u001b[1;33m]\u001b[0m\u001b[1;33m\u001b[0m\u001b[1;33m\u001b[0m\u001b[0m\n\u001b[1;32m--> 315\u001b[1;33m             \u001b[1;32myield\u001b[0m \u001b[1;32mfrom\u001b[0m \u001b[0mself\u001b[0m\u001b[1;33m.\u001b[0m\u001b[0m_plot_args\u001b[0m\u001b[1;33m(\u001b[0m\u001b[0mthis\u001b[0m\u001b[1;33m,\u001b[0m \u001b[0mkwargs\u001b[0m\u001b[1;33m)\u001b[0m\u001b[1;33m\u001b[0m\u001b[1;33m\u001b[0m\u001b[0m\n\u001b[0m\u001b[0;32m    316\u001b[0m \u001b[1;33m\u001b[0m\u001b[0m\n\u001b[0;32m    317\u001b[0m     \u001b[1;32mdef\u001b[0m \u001b[0mget_next_color\u001b[0m\u001b[1;33m(\u001b[0m\u001b[0mself\u001b[0m\u001b[1;33m)\u001b[0m\u001b[1;33m:\u001b[0m\u001b[1;33m\u001b[0m\u001b[1;33m\u001b[0m\u001b[0m\n",
      "\u001b[1;32m~\\AppData\\Local\\Programs\\Python\\Python39\\lib\\site-packages\\matplotlib\\axes\\_base.py\u001b[0m in \u001b[0;36m_plot_args\u001b[1;34m(self, tup, kwargs, return_kwargs)\u001b[0m\n\u001b[0;32m    499\u001b[0m \u001b[1;33m\u001b[0m\u001b[0m\n\u001b[0;32m    500\u001b[0m         \u001b[1;32mif\u001b[0m \u001b[0mx\u001b[0m\u001b[1;33m.\u001b[0m\u001b[0mshape\u001b[0m\u001b[1;33m[\u001b[0m\u001b[1;36m0\u001b[0m\u001b[1;33m]\u001b[0m \u001b[1;33m!=\u001b[0m \u001b[0my\u001b[0m\u001b[1;33m.\u001b[0m\u001b[0mshape\u001b[0m\u001b[1;33m[\u001b[0m\u001b[1;36m0\u001b[0m\u001b[1;33m]\u001b[0m\u001b[1;33m:\u001b[0m\u001b[1;33m\u001b[0m\u001b[1;33m\u001b[0m\u001b[0m\n\u001b[1;32m--> 501\u001b[1;33m             raise ValueError(f\"x and y must have same first dimension, but \"\n\u001b[0m\u001b[0;32m    502\u001b[0m                              f\"have shapes {x.shape} and {y.shape}\")\n\u001b[0;32m    503\u001b[0m         \u001b[1;32mif\u001b[0m \u001b[0mx\u001b[0m\u001b[1;33m.\u001b[0m\u001b[0mndim\u001b[0m \u001b[1;33m>\u001b[0m \u001b[1;36m2\u001b[0m \u001b[1;32mor\u001b[0m \u001b[0my\u001b[0m\u001b[1;33m.\u001b[0m\u001b[0mndim\u001b[0m \u001b[1;33m>\u001b[0m \u001b[1;36m2\u001b[0m\u001b[1;33m:\u001b[0m\u001b[1;33m\u001b[0m\u001b[1;33m\u001b[0m\u001b[0m\n",
      "\u001b[1;31mValueError\u001b[0m: x and y must have same first dimension, but have shapes (75,) and (1,)"
     ]
    },
    {
     "data": {
      "image/png": "[encoded data removed]",
      "text/plain": [
       "<Figure size 432x288 with 1 Axes>"
      ]
     },
     "metadata": {},
     "output_type": "display_data"
    }
   ],
   "source": [
    "print(\"[INFO] saving mask detector model...\")\n",
    "model.save(\"mask_detector.model\", save_format=\"h5\")\n",
    "\n",
    "# plot the training loss and accuracy\n",
    "\n",
    "N = EPOCHS\n",
    "plt.style.use(\"ggplot\")\n",
    "plt.figure()\n",
    "plt.plot(np.arange(0, N), H.history[\"loss\"], label=\"train_loss\")\n",
    "plt.plot(np.arange(0, N), H.history[\"val_loss\"], label=\"val_loss\")\n",
    "plt.plot(np.arange(0, N), H.history[\"accuracy\"], label=\"train_acc\")\n",
    "plt.plot(np.arange(0, N), H.history[\"val_accuracy\"], label=\"val_acc\")\n",
    "plt.title(\"Training Loss and Accuracy\")\n",
    "plt.xlabel(\"Epoch #\")\n",
    "plt.ylabel(\"Loss/Accuracy\")\n",
    "plt.legend(loc=\"lower left\")\n",
    "plt.savefig(\"plot.png\")"
   ]
  }
 ],
 "metadata": {
  "kernelspec": {
   "display_name": "Python 3 (ipykernel)",
   "language": "python",
   "name": "python3"
  },
  "language_info": {
   "codemirror_mode": {
    "name": "ipython",
    "version": 3
   },
   "file_extension": ".py",
   "mimetype": "text/x-python",
   "name": "python",
   "nbconvert_exporter": "python",
   "pygments_lexer": "ipython3",
   "version": "3.9.7"
  }
 },
 "nbformat": 4,
 "nbformat_minor": 5
}
